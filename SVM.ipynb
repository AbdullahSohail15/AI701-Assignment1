{
 "cells": [
  {
   "cell_type": "markdown",
   "metadata": {
    "id": "T90cX4ichklP"
   },
   "source": [
    "\n",
    "# Support Vector Machines\n",
    "\n",
    "One thing SVMs are very good at is text classification.\n",
    "\n",
    "The goal here is to determine whether a tweet was written by a Democratic or Republican politician, using just the text of the tweet.\n",
    "\n",
    "`sklearn` library is used in this exercise."
   ]
  },
  {
   "cell_type": "markdown",
   "metadata": {
    "id": "ICj3ClLyhklU"
   },
   "source": [
    "The data has three fields:\n",
    "\n",
    "| Feature \t| Description               \t|\n",
    "|---------\t|---------------------------\t|\n",
    "|   Party \t| Democrat or Republican    \t|\n",
    "|  Handle \t| The author's Twitter name \t|\n",
    "|   Tweet \t| The text of the tweet     \t|"
   ]
  },
  {
   "cell_type": "code",
   "execution_count": 2,
   "metadata": {
    "colab": {
     "base_uri": "https://localhost:8080/",
     "height": 206
    },
    "id": "L6UDOfFbhklV",
    "outputId": "d578372b-fed8-4004-ec5e-72ee78b079c4"
   },
   "outputs": [
    {
     "data": {
      "text/html": [
       "<div>\n",
       "<style scoped>\n",
       "    .dataframe tbody tr th:only-of-type {\n",
       "        vertical-align: middle;\n",
       "    }\n",
       "\n",
       "    .dataframe tbody tr th {\n",
       "        vertical-align: top;\n",
       "    }\n",
       "\n",
       "    .dataframe thead th {\n",
       "        text-align: right;\n",
       "    }\n",
       "</style>\n",
       "<table border=\"1\" class=\"dataframe\">\n",
       "  <thead>\n",
       "    <tr style=\"text-align: right;\">\n",
       "      <th></th>\n",
       "      <th>Party</th>\n",
       "      <th>Handle</th>\n",
       "      <th>Tweet</th>\n",
       "    </tr>\n",
       "  </thead>\n",
       "  <tbody>\n",
       "    <tr>\n",
       "      <th>4098</th>\n",
       "      <td>Democrat</td>\n",
       "      <td>RepStephMurphy</td>\n",
       "      <td>RT @SSNAlerts: .@RepStephMurphy's, Mike Kelly'...</td>\n",
       "    </tr>\n",
       "    <tr>\n",
       "      <th>39638</th>\n",
       "      <td>Democrat</td>\n",
       "      <td>cbrangel</td>\n",
       "      <td>America is greater thx to contributions of Lat...</td>\n",
       "    </tr>\n",
       "    <tr>\n",
       "      <th>44277</th>\n",
       "      <td>Republican</td>\n",
       "      <td>RepPaulMitchell</td>\n",
       "      <td>Speaking to @therealnmma this morning about my...</td>\n",
       "    </tr>\n",
       "    <tr>\n",
       "      <th>70181</th>\n",
       "      <td>Republican</td>\n",
       "      <td>RepDavid</td>\n",
       "      <td>RT @DodieLondenEIPS: Congratulations to Britta...</td>\n",
       "    </tr>\n",
       "    <tr>\n",
       "      <th>32440</th>\n",
       "      <td>Democrat</td>\n",
       "      <td>BennieGThompson</td>\n",
       "      <td>Republicans control the House, Senate and Whit...</td>\n",
       "    </tr>\n",
       "  </tbody>\n",
       "</table>\n",
       "</div>"
      ],
      "text/plain": [
       "            Party           Handle  \\\n",
       "4098     Democrat   RepStephMurphy   \n",
       "39638    Democrat         cbrangel   \n",
       "44277  Republican  RepPaulMitchell   \n",
       "70181  Republican         RepDavid   \n",
       "32440    Democrat  BennieGThompson   \n",
       "\n",
       "                                                   Tweet  \n",
       "4098   RT @SSNAlerts: .@RepStephMurphy's, Mike Kelly'...  \n",
       "39638  America is greater thx to contributions of Lat...  \n",
       "44277  Speaking to @therealnmma this morning about my...  \n",
       "70181  RT @DodieLondenEIPS: Congratulations to Britta...  \n",
       "32440  Republicans control the House, Senate and Whit...  "
      ]
     },
     "execution_count": 2,
     "metadata": {},
     "output_type": "execute_result"
    }
   ],
   "source": [
    "import pandas as pd\n",
    "\n",
    "data = pd.read_csv('data/tweets.csv')\n",
    "\n",
    "# Training an SVM on a lot of data with a lot of features can take a few minutes,\n",
    "# so to keep things speedy here we will use a subset of the data.\n",
    "data = data.sample(5000, random_state=5)\n",
    "\n",
    "data.head()"
   ]
  },
  {
   "cell_type": "markdown",
   "metadata": {
    "id": "e75pKcI0hklW"
   },
   "source": [
    "## Looking at the data"
   ]
  },
  {
   "cell_type": "markdown",
   "metadata": {
    "id": "agrR_Q1ThklW"
   },
   "source": [
    "How many politicians do we have tweets from, per party?\n",
    "\n",
    "(Not how many tweets per party!)"
   ]
  },
  {
   "cell_type": "code",
   "execution_count": 3,
   "metadata": {
    "colab": {
     "base_uri": "https://localhost:8080/"
    },
    "id": "3PFYvrmmhklW",
    "outputId": "b42c8be8-714b-4435-d63b-6b6fa56f182b"
   },
   "outputs": [
    {
     "data": {
      "text/plain": [
       "Party\n",
       "Republican    222\n",
       "Democrat      211\n",
       "Name: count, dtype: int64"
      ]
     },
     "execution_count": 3,
     "metadata": {},
     "output_type": "execute_result"
    }
   ],
   "source": [
    "data.drop_duplicates(subset='Handle')['Party'].value_counts()"
   ]
  },
  {
   "cell_type": "markdown",
   "metadata": {
    "id": "tn55DQqQhklX"
   },
   "source": [
    "And how many tweets per politician?"
   ]
  },
  {
   "cell_type": "code",
   "execution_count": 4,
   "metadata": {
    "colab": {
     "base_uri": "https://localhost:8080/"
    },
    "id": "FdOWdL_RhklX",
    "outputId": "f44a620d-3aec-42c5-9da1-9b7cc943e63e"
   },
   "outputs": [
    {
     "data": {
      "text/plain": [
       "Handle\n",
       "AGBecerra          16\n",
       "AlanGrayson        18\n",
       "AnthonyBrownMD4     5\n",
       "AustinScottGA08     9\n",
       "BennieGThompson     6\n",
       "                   ..\n",
       "reppittenger       15\n",
       "repsandylevin      11\n",
       "rosadelauro        12\n",
       "sethmoulton         9\n",
       "virginiafoxx        7\n",
       "Name: Tweet, Length: 433, dtype: int64"
      ]
     },
     "execution_count": 4,
     "metadata": {},
     "output_type": "execute_result"
    }
   ],
   "source": [
    "data.groupby('Handle')['Tweet'].agg('count')"
   ]
  },
  {
   "cell_type": "markdown",
   "metadata": {
    "id": "piOmrVcShklY"
   },
   "source": [
    "## Working with text data\n",
    "\n",
    "The features for an SVM can't be words or whole tweets. We need a numerical representation for the words in the texts. One method is to transform the text into TF-IDF vectors.\n",
    "\n",
    "It will take the tweets, tokenise them into words (using a special tokeniser that knows how best to split up tweets), remove stop words (very common words like \"the\" and \"and\", which do not really contribute to the meaning of a tweet much) then it will create a sparse matrix representation of all the tweets. Each row is a single tweet, each column is a word in the vocabulary of all the tweets.\n",
    "\n",
    "It only uses the 5000 most common words - using all ~200k words would take a long time to train a model.\n",
    "\n",
    "(This will take a few seconds!)"
   ]
  },
  {
   "cell_type": "code",
   "execution_count": 5,
   "metadata": {
    "colab": {
     "base_uri": "https://localhost:8080/"
    },
    "id": "glRRmyW4hklY",
    "outputId": "c4f6c40d-aa1f-401d-9c7c-99eb46899408"
   },
   "outputs": [
    {
     "name": "stderr",
     "output_type": "stream",
     "text": [
      "/opt/anaconda3/envs/ai701/lib/python3.12/site-packages/sklearn/feature_extraction/text.py:521: UserWarning: The parameter 'token_pattern' will not be used since 'tokenizer' is not None'\n",
      "  warnings.warn(\n"
     ]
    },
    {
     "data": {
      "text/plain": [
       "<5000x5000 sparse matrix of type '<class 'numpy.float64'>'\n",
       "\twith 55941 stored elements in Compressed Sparse Row format>"
      ]
     },
     "execution_count": 5,
     "metadata": {},
     "output_type": "execute_result"
    }
   ],
   "source": [
    "from nltk.tokenize import TweetTokenizer\n",
    "from sklearn.feature_extraction.text import TfidfVectorizer\n",
    "\n",
    "def tok(text):\n",
    "    tt = TweetTokenizer()\n",
    "    return tt.tokenize(text)\n",
    "\n",
    "transformer = TfidfVectorizer(tokenizer=tok, stop_words='english', max_features=5000)\n",
    "tweet_vecs = transformer.fit_transform(data['Tweet'])\n",
    "\n",
    "tweet_vecs"
   ]
  },
  {
   "cell_type": "code",
   "execution_count": 6,
   "metadata": {
    "colab": {
     "base_uri": "https://localhost:8080/"
    },
    "id": "qvC_PfIOhklZ",
    "outputId": "5374e6c7-c02b-4f30-87a4-61344c3f0322"
   },
   "outputs": [
    {
     "data": {
      "text/plain": [
       "[('rt', 4044),\n",
       " (':', 439),\n",
       " ('.', 291),\n",
       " ('@repstephmurphy', 778),\n",
       " (\"'\", 280),\n",
       " ('s', 4063),\n",
       " (',', 287),\n",
       " ('mike', 3198),\n",
       " ('cracking', 1728),\n",
       " ('house', 2629)]"
      ]
     },
     "execution_count": 6,
     "metadata": {},
     "output_type": "execute_result"
    }
   ],
   "source": [
    "# Some words in the vocabulary and their IDs\n",
    "\n",
    "list(transformer.vocabulary_.items())[0:10]"
   ]
  },
  {
   "cell_type": "markdown",
   "metadata": {
    "id": "_ynW7uv7hklZ"
   },
   "source": [
    "## Setting up the data\n",
    "\n",
    "As is standard, we will use some of our data for training the model and some of it for evaluating it. This gives a better idea of how well the model can generalise to unseen data, rather than simply overfitting to the data it has seen.\n",
    "\n",
    "First, we set up a variable `y` to store the Party labels we want to predict.\n",
    "\n",
    "Then, we use the `train_test_split` function to split up the `tweet_vecs` and the `y` data into train/test portions, using an 80:20 train:test ratio."
   ]
  },
  {
   "cell_type": "code",
   "execution_count": 7,
   "metadata": {
    "id": "Gf3xtiYjhkla"
   },
   "outputs": [],
   "source": [
    "from sklearn.model_selection import train_test_split\n",
    "\n",
    "y = data['Party']\n",
    "\n",
    "X_train, X_test, y_train, y_test = train_test_split(tweet_vecs, y, test_size=0.2)"
   ]
  },
  {
   "cell_type": "markdown",
   "metadata": {
    "id": "5i-l5eQ9hklb"
   },
   "source": [
    "## Task 1: Train a linear kernel SVM\n",
    "\n",
    "SVMs in `sklearn` have a few configurable options. The key ones are the kernel to be used (which can overcome non-separable data classes) and the regularization value $C$ (to relax or tighten the margins).\n",
    "\n",
    "Use a `for` loop to try different values for the kernel: `['linear', 'rbf', 'poly', 'sigmoid']`\n",
    "\n",
    "On each iteration, create a classifier with that `kernel`, and call `.fit()` with the training data.\n",
    "\n",
    "Then, use the `.score()` method to see how well the model did on both the seen and the unseen data. What do you observe?\n",
    "\n",
    "$\\color{red}{\\textbf{TO DO :}}$"
   ]
  },
  {
   "cell_type": "code",
   "execution_count": 9,
   "metadata": {
    "colab": {
     "base_uri": "https://localhost:8080/"
    },
    "id": "JSDFtighhklb",
    "outputId": "b3e2041b-ee08-4040-b49c-6db49cd487de",
    "scrolled": true
   },
   "outputs": [
    {
     "data": {
      "text/html": [
       "<div>\n",
       "<style scoped>\n",
       "    .dataframe tbody tr th:only-of-type {\n",
       "        vertical-align: middle;\n",
       "    }\n",
       "\n",
       "    .dataframe tbody tr th {\n",
       "        vertical-align: top;\n",
       "    }\n",
       "\n",
       "    .dataframe thead th {\n",
       "        text-align: right;\n",
       "    }\n",
       "</style>\n",
       "<table border=\"1\" class=\"dataframe\">\n",
       "  <thead>\n",
       "    <tr style=\"text-align: right;\">\n",
       "      <th></th>\n",
       "      <th>kernel</th>\n",
       "      <th>train_score</th>\n",
       "      <th>test_score</th>\n",
       "    </tr>\n",
       "  </thead>\n",
       "  <tbody>\n",
       "    <tr>\n",
       "      <th>2</th>\n",
       "      <td>poly</td>\n",
       "      <td>0.99675</td>\n",
       "      <td>0.642</td>\n",
       "    </tr>\n",
       "    <tr>\n",
       "      <th>3</th>\n",
       "      <td>sigmoid</td>\n",
       "      <td>0.84875</td>\n",
       "      <td>0.664</td>\n",
       "    </tr>\n",
       "    <tr>\n",
       "      <th>0</th>\n",
       "      <td>linear</td>\n",
       "      <td>0.91250</td>\n",
       "      <td>0.670</td>\n",
       "    </tr>\n",
       "    <tr>\n",
       "      <th>1</th>\n",
       "      <td>rbf</td>\n",
       "      <td>0.99175</td>\n",
       "      <td>0.674</td>\n",
       "    </tr>\n",
       "  </tbody>\n",
       "</table>\n",
       "</div>"
      ],
      "text/plain": [
       "    kernel  train_score  test_score\n",
       "2     poly      0.99675       0.642\n",
       "3  sigmoid      0.84875       0.664\n",
       "0   linear      0.91250       0.670\n",
       "1      rbf      0.99175       0.674"
      ]
     },
     "execution_count": 9,
     "metadata": {},
     "output_type": "execute_result"
    }
   ],
   "source": [
    "from sklearn.svm import SVC\n",
    "\n",
    "# Your code here...\n",
    "kernels_list = ['linear', 'rbf', 'poly', 'sigmoid']\n",
    "scores_list = []\n",
    "for kernel in kernels_list:\n",
    "    clf = SVC(kernel=kernel)\n",
    "    clf.fit(X_train, y_train)\n",
    "\n",
    "    score_seen = clf.score(X_train, y_train)\n",
    "    score_unseen = clf.score(X_test, y_test)\n",
    "    scores_list.append((score_seen, score_unseen))\n",
    "\n",
    "\n",
    "results = pd.DataFrame({\n",
    "    'kernel': kernels_list,\n",
    "    'train_score': [x[0] for x in scores_list],\n",
    "    'test_score': [x[1] for x in scores_list]\n",
    "})\n",
    "results.sort_values('test_score')"
   ]
  },
  {
   "cell_type": "markdown",
   "metadata": {},
   "source": [
    "We see that the best score on unseen data is achieved when we use the poly kernel, with the rbf kernel performing the worst on unseen data. All the kernels have high scores on training data, with poly performing the best then rbf, then linear, then sigmoid."
   ]
  },
  {
   "cell_type": "markdown",
   "metadata": {
    "id": "e2dVcl9Fhklb"
   },
   "source": [
    "## Task 2: Find the best model parameters\n",
    "\n",
    "In addition to testing different kernels, try different values for $C$, the regularization hyperparameter.\n",
    "\n",
    "Rather than doing this in a loop, one model at a time, we can parallelise it using `GridSearchCV` in `sklearn`.\n",
    "\n",
    "The `GridSearchCV` class takes a model, with a dictionary of hyperparameters and values. Then you just fit/train it as usual, using the training data from before.\n",
    "\n",
    "Try the following:\n",
    "\n",
    "1. Different kernels\n",
    "2. A few values for $C$\n",
    "\n",
    "Below, create a `GridSearchCV` in the same way you would do with a model: assign it to a variable named `gcv`, pass it the `classifier` as your basic model without parameters set, and also pass it `params`.\n",
    "\n",
    "To speed things up, set `n_jobs=-1` to use all available CPU cores. Set `verbose=1` so you get updates as it proceeds - useful for making sure it is actually working!\n",
    "\n",
    "$\\color{red}{\\textbf{TO DO :}}$"
   ]
  },
  {
   "cell_type": "code",
   "execution_count": 10,
   "metadata": {
    "colab": {
     "base_uri": "https://localhost:8080/"
    },
    "id": "yh2JFsl2hklc",
    "outputId": "3c96c67c-aa16-4e7a-d8ea-9ee49a1c2a82"
   },
   "outputs": [
    {
     "name": "stdout",
     "output_type": "stream",
     "text": [
      "Fitting 5 folds for each of 44 candidates, totalling 220 fits\n"
     ]
    },
    {
     "data": {
      "text/html": [
       "<style>#sk-container-id-1 {\n",
       "  /* Definition of color scheme common for light and dark mode */\n",
       "  --sklearn-color-text: black;\n",
       "  --sklearn-color-line: gray;\n",
       "  /* Definition of color scheme for unfitted estimators */\n",
       "  --sklearn-color-unfitted-level-0: #fff5e6;\n",
       "  --sklearn-color-unfitted-level-1: #f6e4d2;\n",
       "  --sklearn-color-unfitted-level-2: #ffe0b3;\n",
       "  --sklearn-color-unfitted-level-3: chocolate;\n",
       "  /* Definition of color scheme for fitted estimators */\n",
       "  --sklearn-color-fitted-level-0: #f0f8ff;\n",
       "  --sklearn-color-fitted-level-1: #d4ebff;\n",
       "  --sklearn-color-fitted-level-2: #b3dbfd;\n",
       "  --sklearn-color-fitted-level-3: cornflowerblue;\n",
       "\n",
       "  /* Specific color for light theme */\n",
       "  --sklearn-color-text-on-default-background: var(--sg-text-color, var(--theme-code-foreground, var(--jp-content-font-color1, black)));\n",
       "  --sklearn-color-background: var(--sg-background-color, var(--theme-background, var(--jp-layout-color0, white)));\n",
       "  --sklearn-color-border-box: var(--sg-text-color, var(--theme-code-foreground, var(--jp-content-font-color1, black)));\n",
       "  --sklearn-color-icon: #696969;\n",
       "\n",
       "  @media (prefers-color-scheme: dark) {\n",
       "    /* Redefinition of color scheme for dark theme */\n",
       "    --sklearn-color-text-on-default-background: var(--sg-text-color, var(--theme-code-foreground, var(--jp-content-font-color1, white)));\n",
       "    --sklearn-color-background: var(--sg-background-color, var(--theme-background, var(--jp-layout-color0, #111)));\n",
       "    --sklearn-color-border-box: var(--sg-text-color, var(--theme-code-foreground, var(--jp-content-font-color1, white)));\n",
       "    --sklearn-color-icon: #878787;\n",
       "  }\n",
       "}\n",
       "\n",
       "#sk-container-id-1 {\n",
       "  color: var(--sklearn-color-text);\n",
       "}\n",
       "\n",
       "#sk-container-id-1 pre {\n",
       "  padding: 0;\n",
       "}\n",
       "\n",
       "#sk-container-id-1 input.sk-hidden--visually {\n",
       "  border: 0;\n",
       "  clip: rect(1px 1px 1px 1px);\n",
       "  clip: rect(1px, 1px, 1px, 1px);\n",
       "  height: 1px;\n",
       "  margin: -1px;\n",
       "  overflow: hidden;\n",
       "  padding: 0;\n",
       "  position: absolute;\n",
       "  width: 1px;\n",
       "}\n",
       "\n",
       "#sk-container-id-1 div.sk-dashed-wrapped {\n",
       "  border: 1px dashed var(--sklearn-color-line);\n",
       "  margin: 0 0.4em 0.5em 0.4em;\n",
       "  box-sizing: border-box;\n",
       "  padding-bottom: 0.4em;\n",
       "  background-color: var(--sklearn-color-background);\n",
       "}\n",
       "\n",
       "#sk-container-id-1 div.sk-container {\n",
       "  /* jupyter's `normalize.less` sets `[hidden] { display: none; }`\n",
       "     but bootstrap.min.css set `[hidden] { display: none !important; }`\n",
       "     so we also need the `!important` here to be able to override the\n",
       "     default hidden behavior on the sphinx rendered scikit-learn.org.\n",
       "     See: https://github.com/scikit-learn/scikit-learn/issues/21755 */\n",
       "  display: inline-block !important;\n",
       "  position: relative;\n",
       "}\n",
       "\n",
       "#sk-container-id-1 div.sk-text-repr-fallback {\n",
       "  display: none;\n",
       "}\n",
       "\n",
       "div.sk-parallel-item,\n",
       "div.sk-serial,\n",
       "div.sk-item {\n",
       "  /* draw centered vertical line to link estimators */\n",
       "  background-image: linear-gradient(var(--sklearn-color-text-on-default-background), var(--sklearn-color-text-on-default-background));\n",
       "  background-size: 2px 100%;\n",
       "  background-repeat: no-repeat;\n",
       "  background-position: center center;\n",
       "}\n",
       "\n",
       "/* Parallel-specific style estimator block */\n",
       "\n",
       "#sk-container-id-1 div.sk-parallel-item::after {\n",
       "  content: \"\";\n",
       "  width: 100%;\n",
       "  border-bottom: 2px solid var(--sklearn-color-text-on-default-background);\n",
       "  flex-grow: 1;\n",
       "}\n",
       "\n",
       "#sk-container-id-1 div.sk-parallel {\n",
       "  display: flex;\n",
       "  align-items: stretch;\n",
       "  justify-content: center;\n",
       "  background-color: var(--sklearn-color-background);\n",
       "  position: relative;\n",
       "}\n",
       "\n",
       "#sk-container-id-1 div.sk-parallel-item {\n",
       "  display: flex;\n",
       "  flex-direction: column;\n",
       "}\n",
       "\n",
       "#sk-container-id-1 div.sk-parallel-item:first-child::after {\n",
       "  align-self: flex-end;\n",
       "  width: 50%;\n",
       "}\n",
       "\n",
       "#sk-container-id-1 div.sk-parallel-item:last-child::after {\n",
       "  align-self: flex-start;\n",
       "  width: 50%;\n",
       "}\n",
       "\n",
       "#sk-container-id-1 div.sk-parallel-item:only-child::after {\n",
       "  width: 0;\n",
       "}\n",
       "\n",
       "/* Serial-specific style estimator block */\n",
       "\n",
       "#sk-container-id-1 div.sk-serial {\n",
       "  display: flex;\n",
       "  flex-direction: column;\n",
       "  align-items: center;\n",
       "  background-color: var(--sklearn-color-background);\n",
       "  padding-right: 1em;\n",
       "  padding-left: 1em;\n",
       "}\n",
       "\n",
       "\n",
       "/* Toggleable style: style used for estimator/Pipeline/ColumnTransformer box that is\n",
       "clickable and can be expanded/collapsed.\n",
       "- Pipeline and ColumnTransformer use this feature and define the default style\n",
       "- Estimators will overwrite some part of the style using the `sk-estimator` class\n",
       "*/\n",
       "\n",
       "/* Pipeline and ColumnTransformer style (default) */\n",
       "\n",
       "#sk-container-id-1 div.sk-toggleable {\n",
       "  /* Default theme specific background. It is overwritten whether we have a\n",
       "  specific estimator or a Pipeline/ColumnTransformer */\n",
       "  background-color: var(--sklearn-color-background);\n",
       "}\n",
       "\n",
       "/* Toggleable label */\n",
       "#sk-container-id-1 label.sk-toggleable__label {\n",
       "  cursor: pointer;\n",
       "  display: block;\n",
       "  width: 100%;\n",
       "  margin-bottom: 0;\n",
       "  padding: 0.5em;\n",
       "  box-sizing: border-box;\n",
       "  text-align: center;\n",
       "}\n",
       "\n",
       "#sk-container-id-1 label.sk-toggleable__label-arrow:before {\n",
       "  /* Arrow on the left of the label */\n",
       "  content: \"▸\";\n",
       "  float: left;\n",
       "  margin-right: 0.25em;\n",
       "  color: var(--sklearn-color-icon);\n",
       "}\n",
       "\n",
       "#sk-container-id-1 label.sk-toggleable__label-arrow:hover:before {\n",
       "  color: var(--sklearn-color-text);\n",
       "}\n",
       "\n",
       "/* Toggleable content - dropdown */\n",
       "\n",
       "#sk-container-id-1 div.sk-toggleable__content {\n",
       "  max-height: 0;\n",
       "  max-width: 0;\n",
       "  overflow: hidden;\n",
       "  text-align: left;\n",
       "  /* unfitted */\n",
       "  background-color: var(--sklearn-color-unfitted-level-0);\n",
       "}\n",
       "\n",
       "#sk-container-id-1 div.sk-toggleable__content.fitted {\n",
       "  /* fitted */\n",
       "  background-color: var(--sklearn-color-fitted-level-0);\n",
       "}\n",
       "\n",
       "#sk-container-id-1 div.sk-toggleable__content pre {\n",
       "  margin: 0.2em;\n",
       "  border-radius: 0.25em;\n",
       "  color: var(--sklearn-color-text);\n",
       "  /* unfitted */\n",
       "  background-color: var(--sklearn-color-unfitted-level-0);\n",
       "}\n",
       "\n",
       "#sk-container-id-1 div.sk-toggleable__content.fitted pre {\n",
       "  /* unfitted */\n",
       "  background-color: var(--sklearn-color-fitted-level-0);\n",
       "}\n",
       "\n",
       "#sk-container-id-1 input.sk-toggleable__control:checked~div.sk-toggleable__content {\n",
       "  /* Expand drop-down */\n",
       "  max-height: 200px;\n",
       "  max-width: 100%;\n",
       "  overflow: auto;\n",
       "}\n",
       "\n",
       "#sk-container-id-1 input.sk-toggleable__control:checked~label.sk-toggleable__label-arrow:before {\n",
       "  content: \"▾\";\n",
       "}\n",
       "\n",
       "/* Pipeline/ColumnTransformer-specific style */\n",
       "\n",
       "#sk-container-id-1 div.sk-label input.sk-toggleable__control:checked~label.sk-toggleable__label {\n",
       "  color: var(--sklearn-color-text);\n",
       "  background-color: var(--sklearn-color-unfitted-level-2);\n",
       "}\n",
       "\n",
       "#sk-container-id-1 div.sk-label.fitted input.sk-toggleable__control:checked~label.sk-toggleable__label {\n",
       "  background-color: var(--sklearn-color-fitted-level-2);\n",
       "}\n",
       "\n",
       "/* Estimator-specific style */\n",
       "\n",
       "/* Colorize estimator box */\n",
       "#sk-container-id-1 div.sk-estimator input.sk-toggleable__control:checked~label.sk-toggleable__label {\n",
       "  /* unfitted */\n",
       "  background-color: var(--sklearn-color-unfitted-level-2);\n",
       "}\n",
       "\n",
       "#sk-container-id-1 div.sk-estimator.fitted input.sk-toggleable__control:checked~label.sk-toggleable__label {\n",
       "  /* fitted */\n",
       "  background-color: var(--sklearn-color-fitted-level-2);\n",
       "}\n",
       "\n",
       "#sk-container-id-1 div.sk-label label.sk-toggleable__label,\n",
       "#sk-container-id-1 div.sk-label label {\n",
       "  /* The background is the default theme color */\n",
       "  color: var(--sklearn-color-text-on-default-background);\n",
       "}\n",
       "\n",
       "/* On hover, darken the color of the background */\n",
       "#sk-container-id-1 div.sk-label:hover label.sk-toggleable__label {\n",
       "  color: var(--sklearn-color-text);\n",
       "  background-color: var(--sklearn-color-unfitted-level-2);\n",
       "}\n",
       "\n",
       "/* Label box, darken color on hover, fitted */\n",
       "#sk-container-id-1 div.sk-label.fitted:hover label.sk-toggleable__label.fitted {\n",
       "  color: var(--sklearn-color-text);\n",
       "  background-color: var(--sklearn-color-fitted-level-2);\n",
       "}\n",
       "\n",
       "/* Estimator label */\n",
       "\n",
       "#sk-container-id-1 div.sk-label label {\n",
       "  font-family: monospace;\n",
       "  font-weight: bold;\n",
       "  display: inline-block;\n",
       "  line-height: 1.2em;\n",
       "}\n",
       "\n",
       "#sk-container-id-1 div.sk-label-container {\n",
       "  text-align: center;\n",
       "}\n",
       "\n",
       "/* Estimator-specific */\n",
       "#sk-container-id-1 div.sk-estimator {\n",
       "  font-family: monospace;\n",
       "  border: 1px dotted var(--sklearn-color-border-box);\n",
       "  border-radius: 0.25em;\n",
       "  box-sizing: border-box;\n",
       "  margin-bottom: 0.5em;\n",
       "  /* unfitted */\n",
       "  background-color: var(--sklearn-color-unfitted-level-0);\n",
       "}\n",
       "\n",
       "#sk-container-id-1 div.sk-estimator.fitted {\n",
       "  /* fitted */\n",
       "  background-color: var(--sklearn-color-fitted-level-0);\n",
       "}\n",
       "\n",
       "/* on hover */\n",
       "#sk-container-id-1 div.sk-estimator:hover {\n",
       "  /* unfitted */\n",
       "  background-color: var(--sklearn-color-unfitted-level-2);\n",
       "}\n",
       "\n",
       "#sk-container-id-1 div.sk-estimator.fitted:hover {\n",
       "  /* fitted */\n",
       "  background-color: var(--sklearn-color-fitted-level-2);\n",
       "}\n",
       "\n",
       "/* Specification for estimator info (e.g. \"i\" and \"?\") */\n",
       "\n",
       "/* Common style for \"i\" and \"?\" */\n",
       "\n",
       ".sk-estimator-doc-link,\n",
       "a:link.sk-estimator-doc-link,\n",
       "a:visited.sk-estimator-doc-link {\n",
       "  float: right;\n",
       "  font-size: smaller;\n",
       "  line-height: 1em;\n",
       "  font-family: monospace;\n",
       "  background-color: var(--sklearn-color-background);\n",
       "  border-radius: 1em;\n",
       "  height: 1em;\n",
       "  width: 1em;\n",
       "  text-decoration: none !important;\n",
       "  margin-left: 1ex;\n",
       "  /* unfitted */\n",
       "  border: var(--sklearn-color-unfitted-level-1) 1pt solid;\n",
       "  color: var(--sklearn-color-unfitted-level-1);\n",
       "}\n",
       "\n",
       ".sk-estimator-doc-link.fitted,\n",
       "a:link.sk-estimator-doc-link.fitted,\n",
       "a:visited.sk-estimator-doc-link.fitted {\n",
       "  /* fitted */\n",
       "  border: var(--sklearn-color-fitted-level-1) 1pt solid;\n",
       "  color: var(--sklearn-color-fitted-level-1);\n",
       "}\n",
       "\n",
       "/* On hover */\n",
       "div.sk-estimator:hover .sk-estimator-doc-link:hover,\n",
       ".sk-estimator-doc-link:hover,\n",
       "div.sk-label-container:hover .sk-estimator-doc-link:hover,\n",
       ".sk-estimator-doc-link:hover {\n",
       "  /* unfitted */\n",
       "  background-color: var(--sklearn-color-unfitted-level-3);\n",
       "  color: var(--sklearn-color-background);\n",
       "  text-decoration: none;\n",
       "}\n",
       "\n",
       "div.sk-estimator.fitted:hover .sk-estimator-doc-link.fitted:hover,\n",
       ".sk-estimator-doc-link.fitted:hover,\n",
       "div.sk-label-container:hover .sk-estimator-doc-link.fitted:hover,\n",
       ".sk-estimator-doc-link.fitted:hover {\n",
       "  /* fitted */\n",
       "  background-color: var(--sklearn-color-fitted-level-3);\n",
       "  color: var(--sklearn-color-background);\n",
       "  text-decoration: none;\n",
       "}\n",
       "\n",
       "/* Span, style for the box shown on hovering the info icon */\n",
       ".sk-estimator-doc-link span {\n",
       "  display: none;\n",
       "  z-index: 9999;\n",
       "  position: relative;\n",
       "  font-weight: normal;\n",
       "  right: .2ex;\n",
       "  padding: .5ex;\n",
       "  margin: .5ex;\n",
       "  width: min-content;\n",
       "  min-width: 20ex;\n",
       "  max-width: 50ex;\n",
       "  color: var(--sklearn-color-text);\n",
       "  box-shadow: 2pt 2pt 4pt #999;\n",
       "  /* unfitted */\n",
       "  background: var(--sklearn-color-unfitted-level-0);\n",
       "  border: .5pt solid var(--sklearn-color-unfitted-level-3);\n",
       "}\n",
       "\n",
       ".sk-estimator-doc-link.fitted span {\n",
       "  /* fitted */\n",
       "  background: var(--sklearn-color-fitted-level-0);\n",
       "  border: var(--sklearn-color-fitted-level-3);\n",
       "}\n",
       "\n",
       ".sk-estimator-doc-link:hover span {\n",
       "  display: block;\n",
       "}\n",
       "\n",
       "/* \"?\"-specific style due to the `<a>` HTML tag */\n",
       "\n",
       "#sk-container-id-1 a.estimator_doc_link {\n",
       "  float: right;\n",
       "  font-size: 1rem;\n",
       "  line-height: 1em;\n",
       "  font-family: monospace;\n",
       "  background-color: var(--sklearn-color-background);\n",
       "  border-radius: 1rem;\n",
       "  height: 1rem;\n",
       "  width: 1rem;\n",
       "  text-decoration: none;\n",
       "  /* unfitted */\n",
       "  color: var(--sklearn-color-unfitted-level-1);\n",
       "  border: var(--sklearn-color-unfitted-level-1) 1pt solid;\n",
       "}\n",
       "\n",
       "#sk-container-id-1 a.estimator_doc_link.fitted {\n",
       "  /* fitted */\n",
       "  border: var(--sklearn-color-fitted-level-1) 1pt solid;\n",
       "  color: var(--sklearn-color-fitted-level-1);\n",
       "}\n",
       "\n",
       "/* On hover */\n",
       "#sk-container-id-1 a.estimator_doc_link:hover {\n",
       "  /* unfitted */\n",
       "  background-color: var(--sklearn-color-unfitted-level-3);\n",
       "  color: var(--sklearn-color-background);\n",
       "  text-decoration: none;\n",
       "}\n",
       "\n",
       "#sk-container-id-1 a.estimator_doc_link.fitted:hover {\n",
       "  /* fitted */\n",
       "  background-color: var(--sklearn-color-fitted-level-3);\n",
       "}\n",
       "</style><div id=\"sk-container-id-1\" class=\"sk-top-container\"><div class=\"sk-text-repr-fallback\"><pre>GridSearchCV(estimator=SVC(), n_jobs=-1,\n",
       "             param_grid={&#x27;C&#x27;: [0.1, 0.3, 0.5, 0.7, 0.9, 1.0, 1.1, 1.3, 1.5, 1.7,\n",
       "                               2.0],\n",
       "                         &#x27;kernel&#x27;: [&#x27;linear&#x27;, &#x27;rbf&#x27;, &#x27;poly&#x27;, &#x27;sigmoid&#x27;]},\n",
       "             verbose=1)</pre><b>In a Jupyter environment, please rerun this cell to show the HTML representation or trust the notebook. <br />On GitHub, the HTML representation is unable to render, please try loading this page with nbviewer.org.</b></div><div class=\"sk-container\" hidden><div class=\"sk-item sk-dashed-wrapped\"><div class=\"sk-label-container\"><div class=\"sk-label fitted sk-toggleable\"><input class=\"sk-toggleable__control sk-hidden--visually\" id=\"sk-estimator-id-1\" type=\"checkbox\" ><label for=\"sk-estimator-id-1\" class=\"sk-toggleable__label fitted sk-toggleable__label-arrow fitted\">&nbsp;&nbsp;GridSearchCV<a class=\"sk-estimator-doc-link fitted\" rel=\"noreferrer\" target=\"_blank\" href=\"https://scikit-learn.org/1.5/modules/generated/sklearn.model_selection.GridSearchCV.html\">?<span>Documentation for GridSearchCV</span></a><span class=\"sk-estimator-doc-link fitted\">i<span>Fitted</span></span></label><div class=\"sk-toggleable__content fitted\"><pre>GridSearchCV(estimator=SVC(), n_jobs=-1,\n",
       "             param_grid={&#x27;C&#x27;: [0.1, 0.3, 0.5, 0.7, 0.9, 1.0, 1.1, 1.3, 1.5, 1.7,\n",
       "                               2.0],\n",
       "                         &#x27;kernel&#x27;: [&#x27;linear&#x27;, &#x27;rbf&#x27;, &#x27;poly&#x27;, &#x27;sigmoid&#x27;]},\n",
       "             verbose=1)</pre></div> </div></div><div class=\"sk-parallel\"><div class=\"sk-parallel-item\"><div class=\"sk-item\"><div class=\"sk-label-container\"><div class=\"sk-label fitted sk-toggleable\"><input class=\"sk-toggleable__control sk-hidden--visually\" id=\"sk-estimator-id-2\" type=\"checkbox\" ><label for=\"sk-estimator-id-2\" class=\"sk-toggleable__label fitted sk-toggleable__label-arrow fitted\">best_estimator_: SVC</label><div class=\"sk-toggleable__content fitted\"><pre>SVC(C=1.1)</pre></div> </div></div><div class=\"sk-serial\"><div class=\"sk-item\"><div class=\"sk-estimator fitted sk-toggleable\"><input class=\"sk-toggleable__control sk-hidden--visually\" id=\"sk-estimator-id-3\" type=\"checkbox\" ><label for=\"sk-estimator-id-3\" class=\"sk-toggleable__label fitted sk-toggleable__label-arrow fitted\">&nbsp;SVC<a class=\"sk-estimator-doc-link fitted\" rel=\"noreferrer\" target=\"_blank\" href=\"https://scikit-learn.org/1.5/modules/generated/sklearn.svm.SVC.html\">?<span>Documentation for SVC</span></a></label><div class=\"sk-toggleable__content fitted\"><pre>SVC(C=1.1)</pre></div> </div></div></div></div></div></div></div></div></div>"
      ],
      "text/plain": [
       "GridSearchCV(estimator=SVC(), n_jobs=-1,\n",
       "             param_grid={'C': [0.1, 0.3, 0.5, 0.7, 0.9, 1.0, 1.1, 1.3, 1.5, 1.7,\n",
       "                               2.0],\n",
       "                         'kernel': ['linear', 'rbf', 'poly', 'sigmoid']},\n",
       "             verbose=1)"
      ]
     },
     "execution_count": 10,
     "metadata": {},
     "output_type": "execute_result"
    }
   ],
   "source": [
    "from sklearn.model_selection import GridSearchCV\n",
    "\n",
    "params = dict(kernel=['linear', 'rbf', 'poly', 'sigmoid'],\n",
    "              C=[0.1, 0.3, 0.5, 0.7, 0.9, 1.0, 1.1, 1.3, 1.5, 1.7, 2.0],\n",
    "             )\n",
    "\n",
    "classifier = SVC()\n",
    "\n",
    "# Your code here...\n",
    "\n",
    "gcv = GridSearchCV(classifier, params, n_jobs=-1, verbose=1)\n",
    "gcv.fit(X_train, y_train)\n",
    "\n"
   ]
  },
  {
   "cell_type": "markdown",
   "metadata": {
    "id": "-AUn_Y9Shklc"
   },
   "source": [
    "### What was the best model?\n",
    "\n",
    "`GridSearchCV` evaluated each possible model using the accuracy metric.\n",
    "\n",
    "The best model is stored inside `gcv` as `best_estimator_`. Its score is in `gcv.best_score_` and the actual hyperparameters used are in `gcv.best_params_`.\n",
    "\n",
    "(The score here is not the score on the training set, but the average score across subsets of the training set.)\n",
    "\n",
    "Take a look at these and then evaluate the best model using the test set.\n",
    "\n",
    "How does it compare to the four models you trained before?\n",
    "\n",
    "$\\color{red}{\\textbf{TO DO :}}$ Evaluate the model"
   ]
  },
  {
   "cell_type": "code",
   "execution_count": 24,
   "metadata": {
    "id": "VnoKOCJfhklc"
   },
   "outputs": [
    {
     "name": "stdout",
     "output_type": "stream",
     "text": [
      "Best Params Search\n"
     ]
    },
    {
     "data": {
      "text/html": [
       "<div>\n",
       "<style scoped>\n",
       "    .dataframe tbody tr th:only-of-type {\n",
       "        vertical-align: middle;\n",
       "    }\n",
       "\n",
       "    .dataframe tbody tr th {\n",
       "        vertical-align: top;\n",
       "    }\n",
       "\n",
       "    .dataframe thead th {\n",
       "        text-align: right;\n",
       "    }\n",
       "</style>\n",
       "<table border=\"1\" class=\"dataframe\">\n",
       "  <thead>\n",
       "    <tr style=\"text-align: right;\">\n",
       "      <th></th>\n",
       "      <th>mean_fit_time</th>\n",
       "      <th>std_fit_time</th>\n",
       "      <th>mean_score_time</th>\n",
       "      <th>std_score_time</th>\n",
       "      <th>param_C</th>\n",
       "      <th>param_kernel</th>\n",
       "      <th>params</th>\n",
       "      <th>split0_test_score</th>\n",
       "      <th>split1_test_score</th>\n",
       "      <th>split2_test_score</th>\n",
       "      <th>split3_test_score</th>\n",
       "      <th>split4_test_score</th>\n",
       "      <th>mean_test_score</th>\n",
       "      <th>std_test_score</th>\n",
       "      <th>rank_test_score</th>\n",
       "    </tr>\n",
       "  </thead>\n",
       "  <tbody>\n",
       "    <tr>\n",
       "      <th>25</th>\n",
       "      <td>0.921203</td>\n",
       "      <td>0.015345</td>\n",
       "      <td>0.228709</td>\n",
       "      <td>0.008103</td>\n",
       "      <td>1.1</td>\n",
       "      <td>rbf</td>\n",
       "      <td>{'C': 1.1, 'kernel': 'rbf'}</td>\n",
       "      <td>0.67000</td>\n",
       "      <td>0.70750</td>\n",
       "      <td>0.70125</td>\n",
       "      <td>0.67625</td>\n",
       "      <td>0.68000</td>\n",
       "      <td>0.68700</td>\n",
       "      <td>0.014676</td>\n",
       "      <td>1</td>\n",
       "    </tr>\n",
       "    <tr>\n",
       "      <th>21</th>\n",
       "      <td>0.973823</td>\n",
       "      <td>0.046533</td>\n",
       "      <td>0.225165</td>\n",
       "      <td>0.019390</td>\n",
       "      <td>1.0</td>\n",
       "      <td>rbf</td>\n",
       "      <td>{'C': 1.0, 'kernel': 'rbf'}</td>\n",
       "      <td>0.67500</td>\n",
       "      <td>0.70375</td>\n",
       "      <td>0.70000</td>\n",
       "      <td>0.66750</td>\n",
       "      <td>0.68500</td>\n",
       "      <td>0.68625</td>\n",
       "      <td>0.013964</td>\n",
       "      <td>2</td>\n",
       "    </tr>\n",
       "    <tr>\n",
       "      <th>29</th>\n",
       "      <td>0.908539</td>\n",
       "      <td>0.020407</td>\n",
       "      <td>0.216973</td>\n",
       "      <td>0.006103</td>\n",
       "      <td>1.3</td>\n",
       "      <td>rbf</td>\n",
       "      <td>{'C': 1.3, 'kernel': 'rbf'}</td>\n",
       "      <td>0.66625</td>\n",
       "      <td>0.70875</td>\n",
       "      <td>0.69375</td>\n",
       "      <td>0.67375</td>\n",
       "      <td>0.68875</td>\n",
       "      <td>0.68625</td>\n",
       "      <td>0.015000</td>\n",
       "      <td>2</td>\n",
       "    </tr>\n",
       "    <tr>\n",
       "      <th>41</th>\n",
       "      <td>0.859384</td>\n",
       "      <td>0.033586</td>\n",
       "      <td>0.226070</td>\n",
       "      <td>0.023479</td>\n",
       "      <td>2.0</td>\n",
       "      <td>rbf</td>\n",
       "      <td>{'C': 2.0, 'kernel': 'rbf'}</td>\n",
       "      <td>0.66000</td>\n",
       "      <td>0.70125</td>\n",
       "      <td>0.69750</td>\n",
       "      <td>0.66625</td>\n",
       "      <td>0.69875</td>\n",
       "      <td>0.68475</td>\n",
       "      <td>0.017808</td>\n",
       "      <td>4</td>\n",
       "    </tr>\n",
       "    <tr>\n",
       "      <th>37</th>\n",
       "      <td>0.866323</td>\n",
       "      <td>0.022759</td>\n",
       "      <td>0.206112</td>\n",
       "      <td>0.008901</td>\n",
       "      <td>1.7</td>\n",
       "      <td>rbf</td>\n",
       "      <td>{'C': 1.7, 'kernel': 'rbf'}</td>\n",
       "      <td>0.66000</td>\n",
       "      <td>0.70125</td>\n",
       "      <td>0.69375</td>\n",
       "      <td>0.66875</td>\n",
       "      <td>0.70000</td>\n",
       "      <td>0.68475</td>\n",
       "      <td>0.017055</td>\n",
       "      <td>4</td>\n",
       "    </tr>\n",
       "  </tbody>\n",
       "</table>\n",
       "</div>"
      ],
      "text/plain": [
       "    mean_fit_time  std_fit_time  mean_score_time  std_score_time  param_C  \\\n",
       "25       0.921203      0.015345         0.228709        0.008103      1.1   \n",
       "21       0.973823      0.046533         0.225165        0.019390      1.0   \n",
       "29       0.908539      0.020407         0.216973        0.006103      1.3   \n",
       "41       0.859384      0.033586         0.226070        0.023479      2.0   \n",
       "37       0.866323      0.022759         0.206112        0.008901      1.7   \n",
       "\n",
       "   param_kernel                       params  split0_test_score  \\\n",
       "25          rbf  {'C': 1.1, 'kernel': 'rbf'}            0.67000   \n",
       "21          rbf  {'C': 1.0, 'kernel': 'rbf'}            0.67500   \n",
       "29          rbf  {'C': 1.3, 'kernel': 'rbf'}            0.66625   \n",
       "41          rbf  {'C': 2.0, 'kernel': 'rbf'}            0.66000   \n",
       "37          rbf  {'C': 1.7, 'kernel': 'rbf'}            0.66000   \n",
       "\n",
       "    split1_test_score  split2_test_score  split3_test_score  \\\n",
       "25            0.70750            0.70125            0.67625   \n",
       "21            0.70375            0.70000            0.66750   \n",
       "29            0.70875            0.69375            0.67375   \n",
       "41            0.70125            0.69750            0.66625   \n",
       "37            0.70125            0.69375            0.66875   \n",
       "\n",
       "    split4_test_score  mean_test_score  std_test_score  rank_test_score  \n",
       "25            0.68000          0.68700        0.014676                1  \n",
       "21            0.68500          0.68625        0.013964                2  \n",
       "29            0.68875          0.68625        0.015000                2  \n",
       "41            0.69875          0.68475        0.017808                4  \n",
       "37            0.70000          0.68475        0.017055                4  "
      ]
     },
     "execution_count": 24,
     "metadata": {},
     "output_type": "execute_result"
    }
   ],
   "source": [
    "# Your code here...\n",
    "\n",
    "print('Best Params Search')\n",
    "best_results = pd.DataFrame(gcv.cv_results_).sort_values('rank_test_score')\n",
    "best_results.head(5)"
   ]
  },
  {
   "cell_type": "code",
   "execution_count": 25,
   "metadata": {},
   "outputs": [
    {
     "name": "stdout",
     "output_type": "stream",
     "text": [
      "Best params in params search: {'C': 1.1, 'kernel': 'rbf'}\n",
      "Best Model Score on test dataset: 0.675\n"
     ]
    }
   ],
   "source": [
    "print(f'Best params in params search: {gcv.best_params_}')\n",
    "\n",
    "best_model = gcv.best_estimator_\n",
    "best_model.score(X_test, y_test)\n",
    "print(f'Best Model Score on test dataset: {best_model.score(X_test, y_test)}')"
   ]
  },
  {
   "cell_type": "markdown",
   "metadata": {},
   "source": [
    "This model accuracy is 0.675, which is worsen the scores by just varying the kernels"
   ]
  },
  {
   "cell_type": "markdown",
   "metadata": {
    "id": "hXg8JK5Thklc"
   },
   "source": [
    "### What is easier to classify? Democrat or Republican?\n",
    "\n",
    "Accuracy only gives one impression. We have three classes here, so print a classification report for each of the baseline models.\n",
    "\n",
    "`sklearn.metrics.classification_report` takes two arguments: the true labels and a model's predictions.\n",
    "\n",
    "You can get predictions for `X_test` by using the `.predict()` method of a trained model.\n",
    "\n",
    "How does the best model do at predicting the two classes?\n",
    "\n",
    "$\\color{red}{\\textbf{TO DO :}}$"
   ]
  },
  {
   "cell_type": "code",
   "execution_count": 31,
   "metadata": {
    "id": "5gMutKv5hklc"
   },
   "outputs": [
    {
     "name": "stdout",
     "output_type": "stream",
     "text": [
      "              precision    recall  f1-score   support\n",
      "\n",
      "    Democrat       0.68      0.65      0.66       491\n",
      "  Republican       0.67      0.70      0.69       509\n",
      "\n",
      "    accuracy                           0.68      1000\n",
      "   macro avg       0.68      0.67      0.67      1000\n",
      "weighted avg       0.68      0.68      0.67      1000\n",
      "\n"
     ]
    }
   ],
   "source": [
    "# Your code here...\n",
    "import sklearn\n",
    "import sklearn.metrics\n",
    "\n",
    "print(sklearn.metrics.classification_report(\n",
    "    y_test,\n",
    "    best_model.predict(X_test),\n",
    "))\n"
   ]
  },
  {
   "cell_type": "markdown",
   "metadata": {},
   "source": [
    "The best model is performs equally in predicing both the classes. It has an f1-score of 0.66 for Democrat, and an f1-score of 0.69 for Rebuplican.\n",
    "\n",
    "The model has better precision with Democrats, and better Recall for Rebublicans."
   ]
  }
 ],
 "metadata": {
  "colab": {
   "provenance": []
  },
  "kernelspec": {
   "display_name": "ai701",
   "language": "python",
   "name": "python3"
  },
  "language_info": {
   "codemirror_mode": {
    "name": "ipython",
    "version": 3
   },
   "file_extension": ".py",
   "mimetype": "text/x-python",
   "name": "python",
   "nbconvert_exporter": "python",
   "pygments_lexer": "ipython3",
   "version": "3.12.2"
  }
 },
 "nbformat": 4,
 "nbformat_minor": 4
}
